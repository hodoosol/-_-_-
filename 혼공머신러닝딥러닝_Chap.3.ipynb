{
  "nbformat": 4,
  "nbformat_minor": 0,
  "metadata": {
    "colab": {
      "name": "혼공머신러닝딥러닝_3.ipynb",
      "provenance": [],
      "authorship_tag": "ABX9TyOR7IW7kysxWj92pUHQGFYR",
      "include_colab_link": true
    },
    "kernelspec": {
      "name": "python3",
      "display_name": "Python 3"
    }
  },
  "cells": [
    {
      "cell_type": "markdown",
      "metadata": {
        "id": "view-in-github",
        "colab_type": "text"
      },
      "source": [
        "<a href=\"https://colab.research.google.com/github/hodoosol/ML_DL_OnMyOwn/blob/main/%ED%98%BC%EA%B3%B5%EB%A8%B8%EC%8B%A0%EB%9F%AC%EB%8B%9D%EB%94%A5%EB%9F%AC%EB%8B%9D_Chap3.ipynb\" target=\"_parent\"><img src=\"https://colab.research.google.com/assets/colab-badge.svg\" alt=\"Open In Colab\"/></a>"
      ]
    },
    {
      "cell_type": "markdown",
      "metadata": {
        "id": "6FE5gXqlTn_5"
      },
      "source": [
        "# 3. 회귀 알고리즘과 모델 규제\r\n",
        "## 1) k- 최근접 이웃 회귀\r\n"
      ]
    },
    {
      "cell_type": "markdown",
      "metadata": {
        "id": "A38HiT08W8hU"
      },
      "source": [
        "농어의 무게를 예측하라"
      ]
    },
    {
      "cell_type": "code",
      "metadata": {
        "colab": {
          "base_uri": "https://localhost:8080/",
          "height": 279
        },
        "id": "Jieav3DJTwhV",
        "outputId": "f9568691-c078-4ae5-a668-20c14134228b"
      },
      "source": [
        "# 농어 데이터 입력받기\r\n",
        "import numpy as np\r\n",
        "perch_length = np.array([8.4, 13.7, 15.0, 16.2, 17.4, 18.0, 18.7, 19.0, 19.6, 20.0, 21.0,\r\n",
        "       21.0, 21.0, 21.3, 22.0, 22.0, 22.0, 22.0, 22.0, 22.5, 22.5, 22.7,\r\n",
        "       23.0, 23.5, 24.0, 24.0, 24.6, 25.0, 25.6, 26.5, 27.3, 27.5, 27.5,\r\n",
        "       27.5, 28.0, 28.7, 30.0, 32.8, 34.5, 35.0, 36.5, 36.0, 37.0, 37.0,\r\n",
        "       39.0, 39.0, 39.0, 40.0, 40.0, 40.0, 40.0, 42.0, 43.0, 43.0, 43.5,\r\n",
        "       44.0])\r\n",
        "perch_weight = np.array([5.9, 32.0, 40.0, 51.5, 70.0, 100.0, 78.0, 80.0, 85.0, 85.0, 110.0,\r\n",
        "       115.0, 125.0, 130.0, 120.0, 120.0, 130.0, 135.0, 110.0, 130.0,\r\n",
        "       150.0, 145.0, 150.0, 170.0, 225.0, 145.0, 188.0, 180.0, 197.0,\r\n",
        "       218.0, 300.0, 260.0, 265.0, 250.0, 250.0, 300.0, 320.0, 514.0,\r\n",
        "       556.0, 840.0, 685.0, 700.0, 700.0, 690.0, 900.0, 650.0, 820.0,\r\n",
        "       850.0, 900.0, 1015.0, 820.0, 1100.0, 1000.0, 1100.0, 1000.0,\r\n",
        "       1000.0])\r\n",
        "\r\n",
        "import matplotlib.pyplot as plt\r\n",
        "plt.scatter(perch_length, perch_weight)\r\n",
        "plt.xlabel('length')\r\n",
        "plt.ylabel('weight')\r\n",
        "plt.show()"
      ],
      "execution_count": null,
      "outputs": [
        {
          "output_type": "display_data",
          "data": {
            "image/png": "[encoded data removed]",
            "text/plain": [
              "<Figure size 432x288 with 1 Axes>"
            ]
          },
          "metadata": {
            "tags": [],
            "needs_background": "light"
          }
        }
      ]
    },
    {
      "cell_type": "code",
      "metadata": {
        "id": "fTz9b1Z_Ykod"
      },
      "source": [
        "# 훈련 세트 준비\r\n",
        "# perch_weight가 target값이 된다. 즉, 농어의 길이로 무게를 예측하는 모델이다.\r\n",
        "from sklearn.model_selection import train_test_split\r\n",
        "# train - test 나누기, 값 지정 안해주면 0.75 / 0.25로 나누어진다.\r\n",
        "train_input, test_input, train_target, test_target = train_test_split(perch_length, perch_weight, random_state=42)\r\n",
        "\r\n",
        "# 사이킷런에 사용할 훈련 세트는 2차원 배열이어야 하기 때문에 reshape 해준다.\r\n",
        "train_input = train_input.reshape(-1, 1)\r\n",
        "test_input = test_input.reshape(-1, 1)"
      ],
      "execution_count": null,
      "outputs": []
    },
    {
      "cell_type": "markdown",
      "metadata": {
        "id": "x_u1WWalcTPj"
      },
      "source": [
        "회귀 모델 훈련"
      ]
    },
    {
      "cell_type": "code",
      "metadata": {
        "colab": {
          "base_uri": "https://localhost:8080/"
        },
        "id": "n9wtCgzxaF1A",
        "outputId": "6d39952b-e3d4-4156-8312-9c61df98ca94"
      },
      "source": [
        "from sklearn.neighbors import KNeighborsRegressor\r\n",
        "\r\n",
        "knr = KNeighborsRegressor()\r\n",
        "knr.fit(train_input, train_target)\r\n",
        "\r\n",
        "knr.score(test_input, test_target)\r\n",
        "# R^2의 값을 출력한다."
      ],
      "execution_count": null,
      "outputs": [
        {
          "output_type": "execute_result",
          "data": {
            "text/plain": [
              "0.9928094061010639"
            ]
          },
          "metadata": {
            "tags": []
          },
          "execution_count": 4
        }
      ]
    },
    {
      "cell_type": "code",
      "metadata": {
        "colab": {
          "base_uri": "https://localhost:8080/"
        },
        "id": "_DiznnW8cjMQ",
        "outputId": "22d44bb5-b3e7-4211-ea21-defec5073f91"
      },
      "source": [
        "# 타깃과 예측이 얼마나 차이나는지 알아보자.\r\n",
        "# mean_absolute_error()는 타깃과 예측의 절댓값 오차를 평균하여 반환한다.\r\n",
        "from sklearn.metrics import mean_absolute_error\r\n",
        "\r\n",
        "test_prediction = knr.predict(test_input)\r\n",
        "mae = mean_absolute_error(test_target, test_prediction)\r\n",
        "print(mae)\r\n",
        "# + - 약 19g 정도 차이나는 것을 알 수 있다."
      ],
      "execution_count": null,
      "outputs": [
        {
          "output_type": "stream",
          "text": [
            "19.157142857142862\n"
          ],
          "name": "stdout"
        }
      ]
    },
    {
      "cell_type": "markdown",
      "metadata": {
        "id": "CKlA0OXZeN6R"
      },
      "source": [
        "과대적합과 과소적합"
      ]
    },
    {
      "cell_type": "code",
      "metadata": {
        "colab": {
          "base_uri": "https://localhost:8080/"
        },
        "id": "VLFnfc5Rcv1W",
        "outputId": "467d78ed-26c9-4baa-cb3a-1a319a636447"
      },
      "source": [
        "knr.score(test_input, test_target)"
      ],
      "execution_count": null,
      "outputs": [
        {
          "output_type": "execute_result",
          "data": {
            "text/plain": [
              "0.9698823289099255"
            ]
          },
          "metadata": {
            "tags": []
          },
          "execution_count": 6
        }
      ]
    },
    {
      "cell_type": "code",
      "metadata": {
        "colab": {
          "base_uri": "https://localhost:8080/"
        },
        "id": "PdOB4rD5ee3F",
        "outputId": "0ef4dabb-70c5-466a-ca7f-665b0b22090e"
      },
      "source": [
        "knr.score(train_input, train_target)"
      ],
      "execution_count": null,
      "outputs": [
        {
          "output_type": "execute_result",
          "data": {
            "text/plain": [
              "0.9698823289099255"
            ]
          },
          "metadata": {
            "tags": []
          },
          "execution_count": 7
        }
      ]
    },
    {
      "cell_type": "markdown",
      "metadata": {
        "id": "THK3Sg2Bej2D"
      },
      "source": [
        "보통은 훈련세트가 테스트세트보다 높지만 이 경우엔 아니다.\r\n",
        "이것을 과소적합이라 한다.\r\n",
        "\r\n",
        "반대로 훈련세트가 테스트세트보다 현저히 높다면 과대적합되었다고 한다. 이 문제를 해결해보자."
      ]
    },
    {
      "cell_type": "code",
      "metadata": {
        "colab": {
          "base_uri": "https://localhost:8080/"
        },
        "id": "Khd89dFlehEO",
        "outputId": "6e9d5375-137c-4688-c79d-a10e6ea80cef"
      },
      "source": [
        "# 어떻게 ? 모델을 좀 더 복잡하게 만들면 된다. 즉 훈련 세트에 더 잘 맞게 만들면 된다.\r\n",
        "knr.n_neighbors = 3\r\n",
        "knr.fit(train_input, train_target)\r\n",
        "knr.score(train_input, train_target)"
      ],
      "execution_count": null,
      "outputs": [
        {
          "output_type": "execute_result",
          "data": {
            "text/plain": [
              "0.9804899950518966"
            ]
          },
          "metadata": {
            "tags": []
          },
          "execution_count": 10
        }
      ]
    },
    {
      "cell_type": "code",
      "metadata": {
        "colab": {
          "base_uri": "https://localhost:8080/"
        },
        "id": "s1wCgpA3fB6_",
        "outputId": "4e247421-4e25-4872-8cc3-41c912f0ed33"
      },
      "source": [
        "# 성공 !\r\n",
        "knr.score(test_input, test_target)"
      ],
      "execution_count": null,
      "outputs": [
        {
          "output_type": "execute_result",
          "data": {
            "text/plain": [
              "0.974645996398761"
            ]
          },
          "metadata": {
            "tags": []
          },
          "execution_count": 12
        }
      ]
    },
    {
      "cell_type": "code",
      "metadata": {
        "colab": {
          "base_uri": "https://localhost:8080/",
          "height": 761
        },
        "id": "I7m6QdkUkK1h",
        "outputId": "de9603e4-f391-4bb4-ae3c-40ce876e99fb"
      },
      "source": [
        "# test 2번\r\n",
        "knr = KNeighborsRegressor()\r\n",
        "x = np.arange(5, 45).reshape(-1, 1)\r\n",
        "for n in[1, 5, 10] :\r\n",
        "  knr.n_neighbors = n\r\n",
        "  knr.fit(train_input, train_target)\r\n",
        "  prediction = knr.predict(x)\r\n",
        "\r\n",
        "  plt.scatter(train_input, train_target)\r\n",
        "  plt.plot(x, prediction)\r\n",
        "  plt.show()"
      ],
      "execution_count": null,
      "outputs": [
        {
          "output_type": "display_data",
          "data": {
            "image/png": "[encoded data removed]",
            "text/plain": [
              "<Figure size 432x288 with 1 Axes>"
            ]
          },
          "metadata": {
            "tags": [],
            "needs_background": "light"
          }
        },
        {
          "output_type": "display_data",
          "data": {
            "image/png": "[encoded data removed]",
            "text/plain": [
              "<Figure size 432x288 with 1 Axes>"
            ]
          },
          "metadata": {
            "tags": [],
            "needs_background": "light"
          }
        },
        {
          "output_type": "display_data",
          "data": {
            "image/png": "[encoded data removed]",
            "text/plain": [
              "<Figure size 432x288 with 1 Axes>"
            ]
          },
          "metadata": {
            "tags": [],
            "needs_background": "light"
          }
        }
      ]
    },
    {
      "cell_type": "markdown",
      "metadata": {
        "id": "_tVt3Gsdj_i1"
      },
      "source": [
        "## 2) 선형 회귀"
      ]
    },
    {
      "cell_type": "markdown",
      "metadata": {
        "id": "gEGigrHPmFbE"
      },
      "source": [
        "아주 큰 농어"
      ]
    },
    {
      "cell_type": "code",
      "metadata": {
        "colab": {
          "base_uri": "https://localhost:8080/"
        },
        "id": "WNRQJ69WkCAB",
        "outputId": "11377a79-4ebe-4253-9d6d-63d2a3365866"
      },
      "source": [
        "# 농어 데이터 입력받기\r\n",
        "import numpy as np\r\n",
        "perch_length = np.array([8.4, 13.7, 15.0, 16.2, 17.4, 18.0, 18.7, 19.0, 19.6, 20.0, 21.0,\r\n",
        "       21.0, 21.0, 21.3, 22.0, 22.0, 22.0, 22.0, 22.0, 22.5, 22.5, 22.7,\r\n",
        "       23.0, 23.5, 24.0, 24.0, 24.6, 25.0, 25.6, 26.5, 27.3, 27.5, 27.5,\r\n",
        "       27.5, 28.0, 28.7, 30.0, 32.8, 34.5, 35.0, 36.5, 36.0, 37.0, 37.0,\r\n",
        "       39.0, 39.0, 39.0, 40.0, 40.0, 40.0, 40.0, 42.0, 43.0, 43.0, 43.5,\r\n",
        "       44.0])\r\n",
        "perch_weight = np.array([5.9, 32.0, 40.0, 51.5, 70.0, 100.0, 78.0, 80.0, 85.0, 85.0, 110.0,\r\n",
        "       115.0, 125.0, 130.0, 120.0, 120.0, 130.0, 135.0, 110.0, 130.0,\r\n",
        "       150.0, 145.0, 150.0, 170.0, 225.0, 145.0, 188.0, 180.0, 197.0,\r\n",
        "       218.0, 300.0, 260.0, 265.0, 250.0, 250.0, 300.0, 320.0, 514.0,\r\n",
        "       556.0, 840.0, 685.0, 700.0, 700.0, 690.0, 900.0, 650.0, 820.0,\r\n",
        "       850.0, 900.0, 1015.0, 820.0, 1100.0, 1000.0, 1100.0, 1000.0,\r\n",
        "       1000.0])\r\n",
        "\r\n",
        "# train - test 나누기\r\n",
        "from sklearn.model_selection import train_test_split\r\n",
        "train_input, test_input, train_target, test_target = train_test_split(perch_length, perch_weight, random_state=42)\r\n",
        "\r\n",
        "# 훈련 세트와 테스트 세트를 2차원 배열로 바꾼다.\r\n",
        "train_input = train_input.reshape(-1, 1)\r\n",
        "test_input = test_input.reshape(-1, 1)\r\n",
        "\r\n",
        "# 최근접 이웃 개수를 3으로 하는 모델을 훈련한다.\r\n",
        "from sklearn.neighbors import KNeighborsRegressor\r\n",
        "knr = KNeighborsRegressor(n_neighbors=3)\r\n",
        "knr.fit(train_input, train_target)\r\n",
        "\r\n",
        "# 길이가 50cm인 농어의 무게를 예측해본다.\r\n",
        "knr.predict([[50]])"
      ],
      "execution_count": null,
      "outputs": [
        {
          "output_type": "execute_result",
          "data": {
            "text/plain": [
              "array([1033.33333333])"
            ]
          },
          "metadata": {
            "tags": []
          },
          "execution_count": 19
        }
      ]
    },
    {
      "cell_type": "markdown",
      "metadata": {
        "id": "5ZlYLKX2nSFJ"
      },
      "source": [
        "모델은 1033g 정도로 예측했다. 그러나 실제 이 농어의 무게는 훨씬 더 많이 나간다고 한다. 해결해보자. "
      ]
    },
    {
      "cell_type": "code",
      "metadata": {
        "colab": {
          "base_uri": "https://localhost:8080/",
          "height": 265
        },
        "id": "4ip7RQs-nCA4",
        "outputId": "0e1ce380-4223-4f67-a4f4-41b4494df203"
      },
      "source": [
        "import matplotlib.pyplot as plt\r\n",
        "# 50cm 농어의 이웃을 구한다.\r\n",
        "distances, indexes = knr.kneighbors([[50]])\r\n",
        "# 훈련 세트의 산점도를 구한다.\r\n",
        "plt.scatter(train_input, train_target)\r\n",
        "# 훈련 세트 중 거대한 농어의 이웃 샘플만 다시 그린다.\r\n",
        "plt.scatter(train_input[indexes], train_target[indexes], marker='D')\r\n",
        "# 거대한 농어만 다시 그리기.\r\n",
        "plt.scatter(50, 1033, marker='^')\r\n",
        "\r\n",
        "plt.show()"
      ],
      "execution_count": null,
      "outputs": [
        {
          "output_type": "display_data",
          "data": {
            "image/png": "[encoded data removed]",
            "text/plain": [
              "<Figure size 432x288 with 1 Axes>"
            ]
          },
          "metadata": {
            "tags": [],
            "needs_background": "light"
          }
        }
      ]
    },
    {
      "cell_type": "markdown",
      "metadata": {
        "id": "jOR9NiOcojp1"
      },
      "source": [
        "k-최근접 이웃은 훈련세트의 값만을 기준으로 하기 때문에 훈련세트의 범위 바깥에 있는 샘플을 예측하기 어렵다 !!\r\n",
        "\r\n",
        "이러한 k-최근접 이웃의 한계를 해결할 수 있는 선형 회귀 알고리즘을 알아보자."
      ]
    },
    {
      "cell_type": "markdown",
      "metadata": {
        "id": "ES4ogwg-pTcM"
      },
      "source": [
        "### 선형 회귀(Linear Regression)"
      ]
    },
    {
      "cell_type": "code",
      "metadata": {
        "colab": {
          "base_uri": "https://localhost:8080/"
        },
        "id": "hxG4trUHpVNw",
        "outputId": "fa401d51-0f49-4a7c-f64a-5e176e47321a"
      },
      "source": [
        "from sklearn.linear_model import LinearRegression\r\n",
        "# 클래스 부르기\r\n",
        "lr = LinearRegression()\r\n",
        "# 선형 회귀 모델 훈련\r\n",
        "lr.fit(train_input, train_target)\r\n",
        "# 50cm 거대 농어에 대한 예측\r\n",
        "lr.predict([[50]])\r\n"
      ],
      "execution_count": null,
      "outputs": [
        {
          "output_type": "execute_result",
          "data": {
            "text/plain": [
              "array([1241.83860323])"
            ]
          },
          "metadata": {
            "tags": []
          },
          "execution_count": 25
        }
      ]
    },
    {
      "cell_type": "code",
      "metadata": {
        "colab": {
          "base_uri": "https://localhost:8080/"
        },
        "id": "-QAjRd0yp6CO",
        "outputId": "8fbd2744-964f-436b-9a1a-23d2f1b7a502"
      },
      "source": [
        "# 선형 회귀 모델의 기울기와 y 절편 출력하기\r\n",
        "print(lr.coef_, lr.intercept_)"
      ],
      "execution_count": null,
      "outputs": [
        {
          "output_type": "stream",
          "text": [
            "[39.01714496] -709.0186449535477\n"
          ],
          "name": "stdout"
        }
      ]
    },
    {
      "cell_type": "markdown",
      "metadata": {
        "id": "8WL0ssOLrdbF"
      },
      "source": [
        "학습한 직선 그리기"
      ]
    },
    {
      "cell_type": "code",
      "metadata": {
        "colab": {
          "base_uri": "https://localhost:8080/",
          "height": 301
        },
        "id": "yWvmP3MMqSVH",
        "outputId": "c0646ddc-5d44-4b38-a1a1-30f89b7753e8"
      },
      "source": [
        "# 훈련 세트의 산점도 그리기\r\n",
        "plt.scatter(train_input, train_target)\r\n",
        "# 15에서 50까지 1차 방정식 그래프 그리기\r\n",
        "plt.plot([15, 50], [15 * lr.coef_ + lr.intercept_,  50 * lr.coef_ + lr.intercept_])\r\n",
        "# 50cm 농어 데이터\r\n",
        "plt.scatter(50, 1241.8, marker='^')\r\n",
        "plt.show()\r\n",
        "\r\n",
        "print(lr.score(train_input, train_target))\r\n",
        "print(lr.score(test_input, test_target))"
      ],
      "execution_count": null,
      "outputs": [
        {
          "output_type": "display_data",
          "data": {
            "image/png": "[encoded data removed]",
            "text/plain": [
              "<Figure size 432x288 with 1 Axes>"
            ]
          },
          "metadata": {
            "tags": [],
            "needs_background": "light"
          }
        },
        {
          "output_type": "stream",
          "text": [
            "0.9398463339976039\n",
            "0.8247503123313558\n"
          ],
          "name": "stdout"
        }
      ]
    },
    {
      "cell_type": "markdown",
      "metadata": {
        "id": "IB_UOyA0s613"
      },
      "source": [
        "훈련 세트와 테스트 세트가 꽤 차이남(과대적합)\r\n",
        "또, 훈련 세트의 점수 자체도 높지 않음(전체적으로 과소적합)\r\n",
        "\r\n",
        "\r\n",
        "마지막으로 작은 농어의 예측 무게가 음수로 떨어지는 것을 알수 있다. 해결해 보자."
      ]
    },
    {
      "cell_type": "markdown",
      "metadata": {
        "id": "VbgfxkJztgmv"
      },
      "source": [
        "### 다항 회귀"
      ]
    },
    {
      "cell_type": "markdown",
      "metadata": {
        "id": "b-UawLWltsp9"
      },
      "source": [
        "농어의 무게 = a(농어의 길이)^2 + b(농어의 길이) + c\r\n",
        "\r\n",
        "농어의 길이를 제곱하여 훈련 세트에 추가해 주자."
      ]
    },
    {
      "cell_type": "code",
      "metadata": {
        "id": "CpK2r7JosGju"
      },
      "source": [
        "# 1차원 배열을 열 방향으로 나란히 붙이기 = np.column_stack\r\n",
        "train_poly = np.column_stack((train_input ** 2, train_input))\r\n",
        "test_poly = np.column_stack((test_input **2, test_input))"
      ],
      "execution_count": null,
      "outputs": []
    },
    {
      "cell_type": "code",
      "metadata": {
        "colab": {
          "base_uri": "https://localhost:8080/"
        },
        "id": "vXO9MeaLuS3f",
        "outputId": "9e49abe8-fb69-45b7-9af5-78b745a07a6e"
      },
      "source": [
        "# 모델 다시 훈련\r\n",
        "lr = LinearRegression()\r\n",
        "lr.fit(train_poly, train_target)\r\n",
        "# [[길이의 제곱, 길이]]로 거대한 농어 예측하기\r\n",
        "print(lr.predict([[50**2, 50]]))\r\n",
        "print(lr.coef_, lr.intercept_)"
      ],
      "execution_count": null,
      "outputs": [
        {
          "output_type": "stream",
          "text": [
            "[1573.98423528]\n",
            "[  1.01433211 -21.55792498] 116.05021078278276\n"
          ],
          "name": "stdout"
        }
      ]
    },
    {
      "cell_type": "code",
      "metadata": {
        "colab": {
          "base_uri": "https://localhost:8080/",
          "height": 301
        },
        "id": "Q-gxD4_BuwNv",
        "outputId": "a920f46b-bad6-4140-8eac-4fefe605e224"
      },
      "source": [
        "# 학습한 직선 그리기\r\n",
        "# 구간별 직선을 그리기 위해 15에서 49까지 정수배열 만들기\r\n",
        "point = np.arange(15, 50)\r\n",
        "\r\n",
        "plt.scatter(train_input, train_target)\r\n",
        "\r\n",
        "# 15에서 49까지 2차 방정식 그래프 그리기.\r\n",
        "plt.plot(point, 1.01*point**2 - 21.6*point, +116.05)\r\n",
        "# 거대 농어 데이터\r\n",
        "plt.scatter([50], [1574], marker='^')\r\n",
        "plt.show()\r\n",
        "\r\n",
        "print(lr.score(train_poly, train_target))\r\n",
        "print(lr.score(test_poly, test_target))"
      ],
      "execution_count": null,
      "outputs": [
        {
          "output_type": "display_data",
          "data": {
            "image/png": "[encoded data removed]",
            "text/plain": [
              "<Figure size 432x288 with 1 Axes>"
            ]
          },
          "metadata": {
            "tags": [],
            "needs_background": "light"
          }
        },
        {
          "output_type": "stream",
          "text": [
            "0.9706807451768623\n",
            "0.9775935108325122\n"
          ],
          "name": "stdout"
        }
      ]
    },
    {
      "cell_type": "markdown",
      "metadata": {
        "id": "DkrhAnNHG6D2"
      },
      "source": [
        "농어의 특성이 지금은 길이 1개뿐이라 선형 회귀의 그래프를 2차원으로 표현할 수 있지만 특성이 늘어나면 그래프로 확인하긴 힘들기 때문에 스코어만 보고 판단하는 경우가 많다."
      ]
    },
    {
      "cell_type": "markdown",
      "metadata": {
        "id": "BnnKqmqUH3Ov"
      },
      "source": [
        "## 3) 특성 공학과 규제"
      ]
    },
    {
      "cell_type": "markdown",
      "metadata": {
        "id": "7pODUhC4K4s7"
      },
      "source": [
        "### 다중 회귀(multiple regression / multinomial regression)\r\n",
        "\r\n",
        "농어의 길이, 농어의 높이, 농어의 두께 : 세 개의 특성 사용"
      ]
    },
    {
      "cell_type": "code",
      "metadata": {
        "colab": {
          "base_uri": "https://localhost:8080/"
        },
        "id": "0vp_30CaH5QZ",
        "outputId": "5f748024-0782-4ccb-9c2b-0dc09fe702bf"
      },
      "source": [
        "# 농어 데이터 입력 받기\r\n",
        "import pandas as pd\r\n",
        "df = pd.read_csv('https://bit.ly/perch_csv')\r\n",
        "perch_full = df.to_numpy()\r\n",
        "print(perch_full)"
      ],
      "execution_count": null,
      "outputs": [
        {
          "output_type": "stream",
          "text": [
            "[[ 8.4   2.11  1.41]\n",
            " [13.7   3.53  2.  ]\n",
            " [15.    3.82  2.43]\n",
            " [16.2   4.59  2.63]\n",
            " [17.4   4.59  2.94]\n",
            " [18.    5.22  3.32]\n",
            " [18.7   5.2   3.12]\n",
            " [19.    5.64  3.05]\n",
            " [19.6   5.14  3.04]\n",
            " [20.    5.08  2.77]\n",
            " [21.    5.69  3.56]\n",
            " [21.    5.92  3.31]\n",
            " [21.    5.69  3.67]\n",
            " [21.3   6.38  3.53]\n",
            " [22.    6.11  3.41]\n",
            " [22.    5.64  3.52]\n",
            " [22.    6.11  3.52]\n",
            " [22.    5.88  3.52]\n",
            " [22.    5.52  4.  ]\n",
            " [22.5   5.86  3.62]\n",
            " [22.5   6.79  3.62]\n",
            " [22.7   5.95  3.63]\n",
            " [23.    5.22  3.63]\n",
            " [23.5   6.28  3.72]\n",
            " [24.    7.29  3.72]\n",
            " [24.    6.38  3.82]\n",
            " [24.6   6.73  4.17]\n",
            " [25.    6.44  3.68]\n",
            " [25.6   6.56  4.24]\n",
            " [26.5   7.17  4.14]\n",
            " [27.3   8.32  5.14]\n",
            " [27.5   7.17  4.34]\n",
            " [27.5   7.05  4.34]\n",
            " [27.5   7.28  4.57]\n",
            " [28.    7.82  4.2 ]\n",
            " [28.7   7.59  4.64]\n",
            " [30.    7.62  4.77]\n",
            " [32.8  10.03  6.02]\n",
            " [34.5  10.26  6.39]\n",
            " [35.   11.49  7.8 ]\n",
            " [36.5  10.88  6.86]\n",
            " [36.   10.61  6.74]\n",
            " [37.   10.84  6.26]\n",
            " [37.   10.57  6.37]\n",
            " [39.   11.14  7.49]\n",
            " [39.   11.14  6.  ]\n",
            " [39.   12.43  7.35]\n",
            " [40.   11.93  7.11]\n",
            " [40.   11.73  7.22]\n",
            " [40.   12.38  7.46]\n",
            " [40.   11.14  6.63]\n",
            " [42.   12.8   6.87]\n",
            " [43.   11.93  7.28]\n",
            " [43.   12.51  7.42]\n",
            " [43.5  12.6   8.14]\n",
            " [44.   12.49  7.6 ]]\n"
          ],
          "name": "stdout"
        }
      ]
    },
    {
      "cell_type": "code",
      "metadata": {
        "id": "mmyfN3G0MFl3"
      },
      "source": [
        "# 타겟 데이터 입력받기\r\n",
        "import numpy as np\r\n",
        "perch_weight = np.array([5.9, 32.0, 40.0, 51.5, 70.0, 100.0, 78.0, 80.0, 85.0, 85.0, 110.0,\r\n",
        "       115.0, 125.0, 130.0, 120.0, 120.0, 130.0, 135.0, 110.0, 130.0,\r\n",
        "       150.0, 145.0, 150.0, 170.0, 225.0, 145.0, 188.0, 180.0, 197.0,\r\n",
        "       218.0, 300.0, 260.0, 265.0, 250.0, 250.0, 300.0, 320.0, 514.0,\r\n",
        "       556.0, 840.0, 685.0, 700.0, 700.0, 690.0, 900.0, 650.0, 820.0,\r\n",
        "       850.0, 900.0, 1015.0, 820.0, 1100.0, 1000.0, 1100.0, 1000.0,\r\n",
        "       1000.0])"
      ],
      "execution_count": null,
      "outputs": []
    },
    {
      "cell_type": "code",
      "metadata": {
        "id": "cT9QHa5_M7lW"
      },
      "source": [
        "# perch_full과 perch_weight를 훈련 세트와 테스트 세트로 나누기\r\n",
        "from sklearn.model_selection import train_test_split\r\n",
        "train_input, test_input, train_target, test_target = train_test_split(perch_full, perch_weight, random_state=42)"
      ],
      "execution_count": null,
      "outputs": []
    },
    {
      "cell_type": "code",
      "metadata": {
        "colab": {
          "base_uri": "https://localhost:8080/"
        },
        "id": "gZofpjznNQ5B",
        "outputId": "e354c0c4-edc4-493a-ebb6-761c5daa33ec"
      },
      "source": [
        "# PolynomialFeatures 알아보기\r\n",
        "from sklearn.preprocessing import PolynomialFeatures\r\n",
        "\r\n",
        "# degree = 2   ->   제곱하기\r\n",
        "poly = PolynomialFeatures()\r\n",
        "poly.fit([[2, 3]])\r\n",
        "\r\n",
        "# 1(bias), 2, 3, 2**2, 2*3, 3**2\r\n",
        "print(poly.transform([[2, 3]]))\r\n",
        "\r\n",
        "# PolynomialFeatures는 실제로 무언가를 학습하는 것은 아니고,\r\n",
        "# n개의 특성을 다항 특성으로 만드려면 몇 개의 특성이 필요한지 파악하는 용도"
      ],
      "execution_count": null,
      "outputs": [
        {
          "output_type": "stream",
          "text": [
            "[[1. 2. 3. 4. 6. 9.]]\n"
          ],
          "name": "stdout"
        }
      ]
    },
    {
      "cell_type": "code",
      "metadata": {
        "colab": {
          "base_uri": "https://localhost:8080/"
        },
        "id": "iztuwkAPNrNX",
        "outputId": "56ebc5f7-f45c-4324-f5c6-31aac0011c2c"
      },
      "source": [
        "# 농어의 훈련 데이터에 적용해보자.\r\n",
        "# 객체 생성, 맨 앞에 나오는 절편을 위한 항(1) 없애기\r\n",
        "poly = PolynomialFeatures(include_bias=False)\r\n",
        "# 특성 공학 - 훈련 세트의 새로운 특성 만들기\r\n",
        "poly.fit(train_input)\r\n",
        "train_poly = poly.transform(train_input)\r\n",
        "# 훈련 세트의 모양 출력하기\r\n",
        "print(train_poly.shape)\r\n",
        "# 훈련 세트의 특성 이름들 출력하기 - x0 = 농어의 길이 x1 = 농어의 높이 x2 = 농어의 두께 \r\n",
        "print(poly.get_feature_names())\r\n",
        "\r\n",
        "# 테스트 세트도 적용하기 - 새로운 poly 객체 생성하지는 않고, 훈련 세트의 객체를 그대로 사용하는 것이 좋다.\r\n",
        "# Q1. 위 주석은 셋째줄에서 생성한 poly = PolynomialFeatures(include_bias=False)의 poly를\r\n",
        "# train_input에서 사용한 뒤, test_input에서도 그대로 사용한다는 말이 맞나요 ?\r\n",
        "# 테스트 세트에서는 자체적으로 fit을 호출한다 ??\r\n",
        "test_poly = poly.transform(test_input)\r\n",
        "\r\n",
        "from sklearn.linear_model import LinearRegression\r\n",
        "# 선형 회귀 객체 생성\r\n",
        "lr = LinearRegression()\r\n",
        "lr.fit(train_poly, train_target)\r\n",
        "\r\n",
        "print(lr.score(train_poly, train_target))\r\n",
        "print(lr.score(test_poly, test_target))"
      ],
      "execution_count": null,
      "outputs": [
        {
          "output_type": "stream",
          "text": [
            "(42, 9)\n",
            "['x0', 'x1', 'x2', 'x0^2', 'x0 x1', 'x0 x2', 'x1^2', 'x1 x2', 'x2^2']\n",
            "0.9903183436982124\n",
            "0.9714559911594132\n"
          ],
          "name": "stdout"
        }
      ]
    },
    {
      "cell_type": "markdown",
      "metadata": {
        "id": "olBMuV8qbZ1P"
      },
      "source": [
        "더 많은 특성 만들기"
      ]
    },
    {
      "cell_type": "code",
      "metadata": {
        "colab": {
          "base_uri": "https://localhost:8080/"
        },
        "id": "dI2xdJvgWrSI",
        "outputId": "8bf4cc18-a167-4141-c815-47fbb9dfba6e"
      },
      "source": [
        "# 특성을 5제곱까지 만들어보자.\r\n",
        "poly = PolynomialFeatures(degree = 5, include_bias=False)\r\n",
        "\r\n",
        "poly.fit(train_input)\r\n",
        "train_poly = poly.transform(train_input)\r\n",
        "test_poly = poly.transform(test_input)\r\n",
        "\r\n",
        "print(train_poly.shape)\r\n",
        "\r\n",
        "lr.fit(train_poly, train_target)\r\n",
        "print(lr.score(train_poly, train_target))\r\n",
        "print(lr.score(test_poly, test_target))\r\n",
        "\r\n",
        "# 출력해보면, 훈련세트에서는 0.9999999999 테스트세트에서는 -144.4의 결과가 나온다.\r\n",
        "# 특성을 55개나 만들어서 굉장히 과대적합 되었다...\r\n",
        "# 과제적합을 줄여보도록 하자. -> 규제"
      ],
      "execution_count": null,
      "outputs": [
        {
          "output_type": "stream",
          "text": [
            "(42, 55)\n",
            "0.9999999999991096\n",
            "-144.40579242335605\n"
          ],
          "name": "stdout"
        }
      ]
    },
    {
      "cell_type": "markdown",
      "metadata": {
        "id": "A9o46WJBcaxI"
      },
      "source": [
        "### 규제"
      ]
    },
    {
      "cell_type": "markdown",
      "metadata": {
        "id": "-MPiraePdKxj"
      },
      "source": [
        "규제 전에 표준화"
      ]
    },
    {
      "cell_type": "code",
      "metadata": {
        "id": "J4hNhdHXdJxJ"
      },
      "source": [
        "# 특성의 스케일을 조정해주자 ex)z점수(표준점수)\r\n",
        "from sklearn.preprocessing import StandardScaler\r\n",
        "\r\n",
        "ss = StandardScaler()\r\n",
        "ss.fit(train_poly)\r\n",
        "\r\n",
        "# 마찬가지로 여기에서도, 훈련 세트로 학습한 변환기를 사용해 테스트 세트까지 변환해야 함.\r\n",
        "train_scaled = ss.transform(train_poly)\r\n",
        "test_scaled = ss.transform(test_poly)"
      ],
      "execution_count": null,
      "outputs": []
    },
    {
      "cell_type": "markdown",
      "metadata": {
        "id": "cKHQcPjreFEp"
      },
      "source": [
        "릿지 회귀 - 가중치^2을 기준으로 규제 (L2 규제)"
      ]
    },
    {
      "cell_type": "code",
      "metadata": {
        "colab": {
          "base_uri": "https://localhost:8080/"
        },
        "id": "o2fMzR3NeApE",
        "outputId": "83ae61f2-420d-4dd8-eab3-d62647a444e5"
      },
      "source": [
        "from sklearn.linear_model import Ridge\r\n",
        "\r\n",
        "ridge = Ridge()\r\n",
        "ridge.fit(train_scaled, train_target)\r\n",
        "\r\n",
        "print(ridge.score(train_scaled, train_target))\r\n",
        "print(ridge.score(test_scaled, test_target))\r\n",
        "\r\n",
        "# 모델 객체를 만들 때 alpha 매개변수로 규제의 강도를 조절할 수 있다. - 디폴트는 1\r\n",
        "# alpha의 값이 크면 규제 강도가 세지므로 좀 더 과소적합되도록 유도한다.\r\n",
        "# alpha의 값이 작으면 선형 회귀모델과 유사해지므로 과대적합될 가능성이 크다.\r\n",
        "# alpha 처럼 사람이 알려줘야 하는 파라미터를 하이퍼파라미터라고 한다."
      ],
      "execution_count": null,
      "outputs": [
        {
          "output_type": "stream",
          "text": [
            "0.9896101671037343\n",
            "0.9790693977615398\n"
          ],
          "name": "stdout"
        }
      ]
    },
    {
      "cell_type": "markdown",
      "metadata": {
        "id": "GZ38BBXaexXW"
      },
      "source": [
        "적절한 규제 강도 찾기"
      ]
    },
    {
      "cell_type": "code",
      "metadata": {
        "id": "kFO0ZqBBetui"
      },
      "source": [
        "import matplotlib.pyplot as plt\r\n",
        "train_score = []\r\n",
        "test_score = []"
      ],
      "execution_count": null,
      "outputs": []
    },
    {
      "cell_type": "code",
      "metadata": {
        "id": "lre_TcWbf9ty"
      },
      "source": [
        "alpha_list = [0.001, 0.01, 0.1, 1, 10, 100]\r\n",
        "for alpha in alpha_list :\r\n",
        "  ridge = Ridge(alpha=alpha)\r\n",
        "  ridge.fit(train_scaled, train_target)\r\n",
        "  train_score.append(ridge.score(train_scaled, train_target))\r\n",
        "  test_score.append(ridge.score(test_scaled, test_target))"
      ],
      "execution_count": null,
      "outputs": []
    },
    {
      "cell_type": "code",
      "metadata": {
        "colab": {
          "base_uri": "https://localhost:8080/",
          "height": 279
        },
        "id": "ms_SYpdwgYVq",
        "outputId": "5aa5f5a0-8b24-4ac2-a32b-f27f992d279d"
      },
      "source": [
        "# 0.001, 0.01, 0.1, 1 구간이 너무 촘촘해 그래프를 보기 어려우니\r\n",
        "# log10 해줘서 x축의 스케일을 고르게 해준다. \r\n",
        "plt.plot(np.log10(alpha_list), train_score)\r\n",
        "plt.plot(np.log10(alpha_list), test_score)\r\n",
        "plt.xlabel('alpha')\r\n",
        "plt.ylabel('R^2')\r\n",
        "plt.show()"
      ],
      "execution_count": null,
      "outputs": [
        {
          "output_type": "display_data",
          "data": {
            "image/png": "[encoded data removed]",
            "text/plain": [
              "<Figure size 432x288 with 1 Axes>"
            ]
          },
          "metadata": {
            "tags": [],
            "needs_background": "light"
          }
        }
      ]
    },
    {
      "cell_type": "code",
      "metadata": {
        "colab": {
          "base_uri": "https://localhost:8080/"
        },
        "id": "5G3I8Jb0hWbY",
        "outputId": "4435b00d-ffe2-4e36-8404-53fc9709e639"
      },
      "source": [
        "# 10^-1인 alpha = 0.1인 구간이 가장 적절하다\r\n",
        "ridge = Ridge(alpha=0.1)\r\n",
        "ridge.fit(train_scaled, train_target)\r\n",
        "print(ridge.score(train_scaled, train_target))\r\n",
        "print(ridge.score(test_scaled, test_target))"
      ],
      "execution_count": null,
      "outputs": [
        {
          "output_type": "stream",
          "text": [
            "0.9903815817570366\n",
            "0.9827976465386927\n"
          ],
          "name": "stdout"
        }
      ]
    },
    {
      "cell_type": "markdown",
      "metadata": {
        "id": "PDMxwF6nimSq"
      },
      "source": [
        "라쏘 회귀 - 계수의 절댓값을 기준으로 규제(L1 규제)"
      ]
    },
    {
      "cell_type": "code",
      "metadata": {
        "colab": {
          "base_uri": "https://localhost:8080/"
        },
        "id": "cvBcQ4N8igX5",
        "outputId": "6a3c9d93-3afd-435a-8581-aedb53312c23"
      },
      "source": [
        "# 라쏘 회귀 훈련하기\r\n",
        "from sklearn.linear_model import Lasso\r\n",
        "lasso = Lasso()\r\n",
        "lasso.fit(train_scaled, train_target)\r\n",
        "\r\n",
        "print(lasso.score(train_scaled, train_target))\r\n",
        "print(lasso.score(test_scaled, test_target))"
      ],
      "execution_count": null,
      "outputs": [
        {
          "output_type": "stream",
          "text": [
            "0.9897898972080961\n",
            "0.9800593698421883\n"
          ],
          "name": "stdout"
        }
      ]
    },
    {
      "cell_type": "markdown",
      "metadata": {
        "id": "ahQi3Mtokp0_"
      },
      "source": [
        "라쏘의 적절한 alpha값 찾기"
      ]
    },
    {
      "cell_type": "code",
      "metadata": {
        "colab": {
          "base_uri": "https://localhost:8080/"
        },
        "id": "0Mz1I0w7jxVf",
        "outputId": "18585e1d-511b-44e6-f94d-1721f1026417"
      },
      "source": [
        "# 마찬가지로 라쏘의 적절한 규제강도를 찾아보자\r\n",
        "train_score = []\r\n",
        "test_score = []\r\n",
        "\r\n",
        "alpha_list = [0.001, 0.01, 0.1, 1, 10, 100]\r\n",
        "for alpha in alpha_list :\r\n",
        "  lasso = Lasso(alpha=alpha, max_iter=10000)\r\n",
        "  lasso.fit(train_scaled, train_target)\r\n",
        "  train_score.append(lasso.score(train_scaled, train_target))\r\n",
        "  test_score.append(lasso.score(test_scaled, test_target))"
      ],
      "execution_count": null,
      "outputs": [
        {
          "output_type": "stream",
          "text": [
            "/usr/local/lib/python3.6/dist-packages/sklearn/linear_model/_coordinate_descent.py:476: ConvergenceWarning: Objective did not converge. You might want to increase the number of iterations. Duality gap: 18778.697957792876, tolerance: 518.2793833333334\n",
            "  positive)\n",
            "/usr/local/lib/python3.6/dist-packages/sklearn/linear_model/_coordinate_descent.py:476: ConvergenceWarning: Objective did not converge. You might want to increase the number of iterations. Duality gap: 12972.821345404844, tolerance: 518.2793833333334\n",
            "  positive)\n"
          ],
          "name": "stderr"
        }
      ]
    },
    {
      "cell_type": "code",
      "metadata": {
        "colab": {
          "base_uri": "https://localhost:8080/",
          "height": 265
        },
        "id": "8NZXNXBwkwwI",
        "outputId": "c7787e73-75f7-4957-af50-b21d65c071fd"
      },
      "source": [
        "# 그래프 그리기\r\n",
        "plt.plot(np.log10(alpha_list), train_score)\r\n",
        "plt.plot(np.log10(alpha_list), test_score)\r\n",
        "plt.show()\r\n",
        "# alpha = 1일 때 가장 좋네."
      ],
      "execution_count": null,
      "outputs": [
        {
          "output_type": "display_data",
          "data": {
            "image/png": "[encoded data removed]",
            "text/plain": [
              "<Figure size 432x288 with 1 Axes>"
            ]
          },
          "metadata": {
            "tags": [],
            "needs_background": "light"
          }
        }
      ]
    },
    {
      "cell_type": "code",
      "metadata": {
        "colab": {
          "base_uri": "https://localhost:8080/"
        },
        "id": "35IWRzWmjkHB",
        "outputId": "568115df-f0f4-48d0-f7cc-454c3bac15ca"
      },
      "source": [
        "# alpha = 1로 다시 훈련하기\r\n",
        "lasso = Lasso(alpha=10)\r\n",
        "lasso.fit(train_scaled, train_target)\r\n",
        "\r\n",
        "print(lasso.score(train_scaled, train_target))\r\n",
        "print(lasso.score(test_scaled, test_target))"
      ],
      "execution_count": null,
      "outputs": [
        {
          "output_type": "stream",
          "text": [
            "0.9888067471131867\n",
            "0.9824470598706695\n",
            "40\n"
          ],
          "name": "stdout"
        }
      ]
    },
    {
      "cell_type": "code",
      "metadata": {
        "colab": {
          "base_uri": "https://localhost:8080/"
        },
        "id": "52wnlAXPkXzC",
        "outputId": "c0c7922a-6f43-42aa-ac75-4da2e2d11dc9"
      },
      "source": [
        "# 라쏘에서는 가중치를 아예 0으로 설정할 수 있다. 그 개수를 세어보자.\r\n",
        "print(np.sum(lasso.coef_ == 0))\r\n",
        "\r\n",
        "# 총 55개의 특성중 라쏘 모델이 사용한 특성은 15개이다.\r\n",
        "# 이런 특징 때문에 라쏘 모델을 이용해 유용한 특성을 골라내기도 한다."
      ],
      "execution_count": null,
      "outputs": [
        {
          "output_type": "stream",
          "text": [
            "40\n"
          ],
          "name": "stdout"
        }
      ]
    }
  ]
}
